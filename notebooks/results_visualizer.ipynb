{
 "cells": [
  {
   "cell_type": "code",
   "execution_count": 1,
   "metadata": {},
   "outputs": [],
   "source": [
    "import numpy as np\n",
    "import pandas as pd\n",
    "import json\n",
    "import matplotlib"
   ]
  },
  {
   "cell_type": "code",
   "execution_count": 2,
   "metadata": {},
   "outputs": [],
   "source": [
    "with open('/home/kimino/soft/qcm-detector/results_3.json', 'r') as results_file:\n",
    "    r_json = json.loads(results_file.read())"
   ]
  },
  {
   "cell_type": "code",
   "execution_count": 3,
   "metadata": {},
   "outputs": [],
   "source": [
    "def get_tf_positives(experiment, experiment_name):\n",
    "    true_positives = experiment['True Positives']\n",
    "    false_positives = [exp for exp in experiment['Detections'] if exp not in experiment['True Positives']]\n",
    "    tp_df = pd.DataFrame(true_positives)\n",
    "    fp_df = pd.DataFrame(false_positives)\n",
    "    tp_df['is_correct'] = True\n",
    "    fp_df['is_correct'] = False\n",
    "    df = pd.concat([tp_df, fp_df], ignore_index= True)\n",
    "    df['experiment'] = experiment_name\n",
    "    df['path'] = experiment['Path']\n",
    "    return df\n",
    "def get_all_detections(experiment_json):\n",
    "    detection_df = pd.DataFrame()\n",
    "    for experiment in experiment_json:\n",
    "        tf_df = get_tf_positives(experiment_json[experiment], experiment)\n",
    "        detection_df = pd.concat([detection_df, tf_df], ignore_index= True, sort = False)\n",
    "    return detection_df"
   ]
  },
  {
   "cell_type": "code",
   "execution_count": 4,
   "metadata": {},
   "outputs": [
    {
     "name": "stderr",
     "output_type": "stream",
     "text": [
      "/home/kimino/soft/qcm-detector/env/lib/python3.7/site-packages/ipykernel_launcher.py:8: FutureWarning: Sorting because non-concatenation axis is not aligned. A future version\n",
      "of pandas will change to not sort by default.\n",
      "\n",
      "To accept the future behavior, pass 'sort=False'.\n",
      "\n",
      "To retain the current behavior and silence the warning, pass 'sort=True'.\n",
      "\n",
      "  \n"
     ]
    },
    {
     "data": {
      "text/plain": [
       "23"
      ]
     },
     "execution_count": 4,
     "metadata": {},
     "output_type": "execute_result"
    }
   ],
   "source": [
    "results_df = get_all_detections(r_json)\n",
    "len(np.unique(results_df['experiment']))"
   ]
  },
  {
   "cell_type": "code",
   "execution_count": 5,
   "metadata": {},
   "outputs": [
    {
     "data": {
      "text/html": [
       "<div>\n",
       "<style scoped>\n",
       "    .dataframe tbody tr th:only-of-type {\n",
       "        vertical-align: middle;\n",
       "    }\n",
       "\n",
       "    .dataframe tbody tr th {\n",
       "        vertical-align: top;\n",
       "    }\n",
       "\n",
       "    .dataframe thead th {\n",
       "        text-align: right;\n",
       "    }\n",
       "</style>\n",
       "<table border=\"1\" class=\"dataframe\">\n",
       "  <thead>\n",
       "    <tr style=\"text-align: right;\">\n",
       "      <th></th>\n",
       "      <th></th>\n",
       "      <th>timestamp</th>\n",
       "      <th>frequency</th>\n",
       "      <th>resistance</th>\n",
       "      <th>period</th>\n",
       "      <th>time</th>\n",
       "      <th>severity</th>\n",
       "      <th>notified</th>\n",
       "      <th>experiment</th>\n",
       "      <th>path</th>\n",
       "    </tr>\n",
       "    <tr>\n",
       "      <th>detector</th>\n",
       "      <th>is_correct</th>\n",
       "      <th></th>\n",
       "      <th></th>\n",
       "      <th></th>\n",
       "      <th></th>\n",
       "      <th></th>\n",
       "      <th></th>\n",
       "      <th></th>\n",
       "      <th></th>\n",
       "      <th></th>\n",
       "    </tr>\n",
       "  </thead>\n",
       "  <tbody>\n",
       "    <tr>\n",
       "      <td>Expo-predict</td>\n",
       "      <td>True</td>\n",
       "      <td>20</td>\n",
       "      <td>20</td>\n",
       "      <td>20</td>\n",
       "      <td>20</td>\n",
       "      <td>20</td>\n",
       "      <td>20</td>\n",
       "      <td>20</td>\n",
       "      <td>20</td>\n",
       "      <td>20</td>\n",
       "    </tr>\n",
       "    <tr>\n",
       "      <td rowspan=\"2\" valign=\"top\">IsolationForest</td>\n",
       "      <td>False</td>\n",
       "      <td>694</td>\n",
       "      <td>694</td>\n",
       "      <td>694</td>\n",
       "      <td>694</td>\n",
       "      <td>694</td>\n",
       "      <td>694</td>\n",
       "      <td>694</td>\n",
       "      <td>694</td>\n",
       "      <td>694</td>\n",
       "    </tr>\n",
       "    <tr>\n",
       "      <td>True</td>\n",
       "      <td>264</td>\n",
       "      <td>264</td>\n",
       "      <td>264</td>\n",
       "      <td>264</td>\n",
       "      <td>264</td>\n",
       "      <td>264</td>\n",
       "      <td>264</td>\n",
       "      <td>264</td>\n",
       "      <td>264</td>\n",
       "    </tr>\n",
       "    <tr>\n",
       "      <td>Mean-shift</td>\n",
       "      <td>True</td>\n",
       "      <td>30</td>\n",
       "      <td>30</td>\n",
       "      <td>30</td>\n",
       "      <td>30</td>\n",
       "      <td>30</td>\n",
       "      <td>30</td>\n",
       "      <td>30</td>\n",
       "      <td>30</td>\n",
       "      <td>30</td>\n",
       "    </tr>\n",
       "    <tr>\n",
       "      <td rowspan=\"2\" valign=\"top\">OneClassSVM</td>\n",
       "      <td>False</td>\n",
       "      <td>235</td>\n",
       "      <td>235</td>\n",
       "      <td>235</td>\n",
       "      <td>235</td>\n",
       "      <td>235</td>\n",
       "      <td>235</td>\n",
       "      <td>235</td>\n",
       "      <td>235</td>\n",
       "      <td>235</td>\n",
       "    </tr>\n",
       "    <tr>\n",
       "      <td>True</td>\n",
       "      <td>52</td>\n",
       "      <td>52</td>\n",
       "      <td>52</td>\n",
       "      <td>52</td>\n",
       "      <td>52</td>\n",
       "      <td>52</td>\n",
       "      <td>52</td>\n",
       "      <td>52</td>\n",
       "      <td>52</td>\n",
       "    </tr>\n",
       "  </tbody>\n",
       "</table>\n",
       "</div>"
      ],
      "text/plain": [
       "                            timestamp  frequency  resistance  period  time  \\\n",
       "detector        is_correct                                                   \n",
       "Expo-predict    True               20         20          20      20    20   \n",
       "IsolationForest False             694        694         694     694   694   \n",
       "                True              264        264         264     264   264   \n",
       "Mean-shift      True               30         30          30      30    30   \n",
       "OneClassSVM     False             235        235         235     235   235   \n",
       "                True               52         52          52      52    52   \n",
       "\n",
       "                            severity  notified  experiment  path  \n",
       "detector        is_correct                                        \n",
       "Expo-predict    True              20        20          20    20  \n",
       "IsolationForest False            694       694         694   694  \n",
       "                True             264       264         264   264  \n",
       "Mean-shift      True              30        30          30    30  \n",
       "OneClassSVM     False            235       235         235   235  \n",
       "                True              52        52          52    52  "
      ]
     },
     "execution_count": 5,
     "metadata": {},
     "output_type": "execute_result"
    }
   ],
   "source": [
    "results_df.groupby(['detector', 'is_correct']).count()"
   ]
  },
  {
   "cell_type": "code",
   "execution_count": 16,
   "metadata": {},
   "outputs": [
    {
     "data": {
      "text/html": [
       "<div>\n",
       "<style scoped>\n",
       "    .dataframe tbody tr th:only-of-type {\n",
       "        vertical-align: middle;\n",
       "    }\n",
       "\n",
       "    .dataframe tbody tr th {\n",
       "        vertical-align: top;\n",
       "    }\n",
       "\n",
       "    .dataframe thead th {\n",
       "        text-align: right;\n",
       "    }\n",
       "</style>\n",
       "<table border=\"1\" class=\"dataframe\">\n",
       "  <thead>\n",
       "    <tr style=\"text-align: right;\">\n",
       "      <th></th>\n",
       "      <th></th>\n",
       "      <th></th>\n",
       "      <th>timestamp</th>\n",
       "      <th>frequency</th>\n",
       "      <th>resistance</th>\n",
       "      <th>period</th>\n",
       "      <th>time</th>\n",
       "      <th>severity</th>\n",
       "      <th>notified</th>\n",
       "      <th>path</th>\n",
       "    </tr>\n",
       "    <tr>\n",
       "      <th>experiment</th>\n",
       "      <th>detector</th>\n",
       "      <th>is_correct</th>\n",
       "      <th></th>\n",
       "      <th></th>\n",
       "      <th></th>\n",
       "      <th></th>\n",
       "      <th></th>\n",
       "      <th></th>\n",
       "      <th></th>\n",
       "      <th></th>\n",
       "    </tr>\n",
       "  </thead>\n",
       "  <tbody>\n",
       "    <tr>\n",
       "      <td rowspan=\"2\" valign=\"top\">Hard-3ppm</td>\n",
       "      <td>Expo-predict</td>\n",
       "      <td>True</td>\n",
       "      <td>1</td>\n",
       "      <td>1</td>\n",
       "      <td>1</td>\n",
       "      <td>1</td>\n",
       "      <td>1</td>\n",
       "      <td>1</td>\n",
       "      <td>1</td>\n",
       "      <td>1</td>\n",
       "    </tr>\n",
       "    <tr>\n",
       "      <td>Mean-shift</td>\n",
       "      <td>True</td>\n",
       "      <td>2</td>\n",
       "      <td>2</td>\n",
       "      <td>2</td>\n",
       "      <td>2</td>\n",
       "      <td>2</td>\n",
       "      <td>2</td>\n",
       "      <td>2</td>\n",
       "      <td>2</td>\n",
       "    </tr>\n",
       "    <tr>\n",
       "      <td rowspan=\"2\" valign=\"top\">Insertion-100ppm</td>\n",
       "      <td>Expo-predict</td>\n",
       "      <td>True</td>\n",
       "      <td>2</td>\n",
       "      <td>2</td>\n",
       "      <td>2</td>\n",
       "      <td>2</td>\n",
       "      <td>2</td>\n",
       "      <td>2</td>\n",
       "      <td>2</td>\n",
       "      <td>2</td>\n",
       "    </tr>\n",
       "    <tr>\n",
       "      <td>Mean-shift</td>\n",
       "      <td>True</td>\n",
       "      <td>2</td>\n",
       "      <td>2</td>\n",
       "      <td>2</td>\n",
       "      <td>2</td>\n",
       "      <td>2</td>\n",
       "      <td>2</td>\n",
       "      <td>2</td>\n",
       "      <td>2</td>\n",
       "    </tr>\n",
       "    <tr>\n",
       "      <td rowspan=\"2\" valign=\"top\">Insertion-1ppm</td>\n",
       "      <td>Expo-predict</td>\n",
       "      <td>True</td>\n",
       "      <td>1</td>\n",
       "      <td>1</td>\n",
       "      <td>1</td>\n",
       "      <td>1</td>\n",
       "      <td>1</td>\n",
       "      <td>1</td>\n",
       "      <td>1</td>\n",
       "      <td>1</td>\n",
       "    </tr>\n",
       "    <tr>\n",
       "      <td>Mean-shift</td>\n",
       "      <td>True</td>\n",
       "      <td>1</td>\n",
       "      <td>1</td>\n",
       "      <td>1</td>\n",
       "      <td>1</td>\n",
       "      <td>1</td>\n",
       "      <td>1</td>\n",
       "      <td>1</td>\n",
       "      <td>1</td>\n",
       "    </tr>\n",
       "    <tr>\n",
       "      <td>Insertion-3ppm</td>\n",
       "      <td>Mean-shift</td>\n",
       "      <td>True</td>\n",
       "      <td>1</td>\n",
       "      <td>1</td>\n",
       "      <td>1</td>\n",
       "      <td>1</td>\n",
       "      <td>1</td>\n",
       "      <td>1</td>\n",
       "      <td>1</td>\n",
       "      <td>1</td>\n",
       "    </tr>\n",
       "  </tbody>\n",
       "</table>\n",
       "</div>"
      ],
      "text/plain": [
       "                                          timestamp  frequency  resistance  \\\n",
       "experiment       detector     is_correct                                     \n",
       "Hard-3ppm        Expo-predict True                1          1           1   \n",
       "                 Mean-shift   True                2          2           2   \n",
       "Insertion-100ppm Expo-predict True                2          2           2   \n",
       "                 Mean-shift   True                2          2           2   \n",
       "Insertion-1ppm   Expo-predict True                1          1           1   \n",
       "                 Mean-shift   True                1          1           1   \n",
       "Insertion-3ppm   Mean-shift   True                1          1           1   \n",
       "\n",
       "                                          period  time  severity  notified  \\\n",
       "experiment       detector     is_correct                                     \n",
       "Hard-3ppm        Expo-predict True             1     1         1         1   \n",
       "                 Mean-shift   True             2     2         2         2   \n",
       "Insertion-100ppm Expo-predict True             2     2         2         2   \n",
       "                 Mean-shift   True             2     2         2         2   \n",
       "Insertion-1ppm   Expo-predict True             1     1         1         1   \n",
       "                 Mean-shift   True             1     1         1         1   \n",
       "Insertion-3ppm   Mean-shift   True             1     1         1         1   \n",
       "\n",
       "                                          path  \n",
       "experiment       detector     is_correct        \n",
       "Hard-3ppm        Expo-predict True           1  \n",
       "                 Mean-shift   True           2  \n",
       "Insertion-100ppm Expo-predict True           2  \n",
       "                 Mean-shift   True           2  \n",
       "Insertion-1ppm   Expo-predict True           1  \n",
       "                 Mean-shift   True           1  \n",
       "Insertion-3ppm   Mean-shift   True           1  "
      ]
     },
     "execution_count": 16,
     "metadata": {},
     "output_type": "execute_result"
    }
   ],
   "source": [
    "results_df[results_df['detector'].isin(['Expo-predict', 'Mean-shift'])].groupby(['experiment','detector', 'is_correct']).count()"
   ]
  },
  {
   "cell_type": "code",
   "execution_count": 17,
   "metadata": {},
   "outputs": [
    {
     "data": {
      "text/plain": [
       "['Hard-Water-2']"
      ]
     },
     "execution_count": 17,
     "metadata": {},
     "output_type": "execute_result"
    }
   ],
   "source": [
    "a = [exp for exp in  list(r_json.keys()) if not exp in list(results_df[results_df['detector'].isin(['Expo-predict', 'Mean-shift'])].groupby(['experiment']).count().index)]\n",
    "a"
   ]
  },
  {
   "cell_type": "code",
   "execution_count": 18,
   "metadata": {},
   "outputs": [
    {
     "data": {
      "text/plain": [
       "332.0245280265808"
      ]
     },
     "execution_count": 18,
     "metadata": {},
     "output_type": "execute_result"
    }
   ],
   "source": [
    "times = np.sum([experiment['Total Detection Time'] for experiment in experiments])\n",
    "times"
   ]
  },
  {
   "cell_type": "code",
   "execution_count": 19,
   "metadata": {},
   "outputs": [],
   "source": [
    "with open('/home/kimino/soft/qcm-detector/results.json', 'r') as results_file:\n",
    "    r_json = json.loads(results_file.read())\n",
    "experiments = [r_json[exp] for exp in r_json]"
   ]
  },
  {
   "cell_type": "code",
   "execution_count": 20,
   "metadata": {},
   "outputs": [
    {
     "data": {
      "text/plain": [
       "332.0245280265808"
      ]
     },
     "execution_count": 20,
     "metadata": {},
     "output_type": "execute_result"
    }
   ],
   "source": [
    "times = np.sum([experiment['Total Detection Time'] for experiment in experiments])\n",
    "times"
   ]
  },
  {
   "cell_type": "code",
   "execution_count": 21,
   "metadata": {},
   "outputs": [
    {
     "name": "stderr",
     "output_type": "stream",
     "text": [
      "/home/kimino/soft/qcm-detector/env/lib/python3.7/site-packages/ipykernel_launcher.py:8: FutureWarning: Sorting because non-concatenation axis is not aligned. A future version\n",
      "of pandas will change to not sort by default.\n",
      "\n",
      "To accept the future behavior, pass 'sort=False'.\n",
      "\n",
      "To retain the current behavior and silence the warning, pass 'sort=True'.\n",
      "\n",
      "  \n"
     ]
    }
   ],
   "source": [
    "results_df = get_all_detections(r_json)\n"
   ]
  },
  {
   "cell_type": "code",
   "execution_count": 22,
   "metadata": {},
   "outputs": [
    {
     "data": {
      "text/html": [
       "<div>\n",
       "<style scoped>\n",
       "    .dataframe tbody tr th:only-of-type {\n",
       "        vertical-align: middle;\n",
       "    }\n",
       "\n",
       "    .dataframe tbody tr th {\n",
       "        vertical-align: top;\n",
       "    }\n",
       "\n",
       "    .dataframe thead th {\n",
       "        text-align: right;\n",
       "    }\n",
       "</style>\n",
       "<table border=\"1\" class=\"dataframe\">\n",
       "  <thead>\n",
       "    <tr style=\"text-align: right;\">\n",
       "      <th></th>\n",
       "      <th>timestamp</th>\n",
       "      <th>frequency</th>\n",
       "      <th>resistance</th>\n",
       "      <th>period</th>\n",
       "      <th>time</th>\n",
       "      <th>severity</th>\n",
       "      <th>notified</th>\n",
       "      <th>is_correct</th>\n",
       "      <th>experiment</th>\n",
       "      <th>path</th>\n",
       "    </tr>\n",
       "    <tr>\n",
       "      <th>detector</th>\n",
       "      <th></th>\n",
       "      <th></th>\n",
       "      <th></th>\n",
       "      <th></th>\n",
       "      <th></th>\n",
       "      <th></th>\n",
       "      <th></th>\n",
       "      <th></th>\n",
       "      <th></th>\n",
       "      <th></th>\n",
       "    </tr>\n",
       "  </thead>\n",
       "  <tbody>\n",
       "    <tr>\n",
       "      <td>Expo-predict</td>\n",
       "      <td>4</td>\n",
       "      <td>4</td>\n",
       "      <td>4</td>\n",
       "      <td>4</td>\n",
       "      <td>4</td>\n",
       "      <td>4</td>\n",
       "      <td>4</td>\n",
       "      <td>4</td>\n",
       "      <td>4</td>\n",
       "      <td>4</td>\n",
       "    </tr>\n",
       "    <tr>\n",
       "      <td>IsolationForest</td>\n",
       "      <td>143</td>\n",
       "      <td>143</td>\n",
       "      <td>143</td>\n",
       "      <td>143</td>\n",
       "      <td>143</td>\n",
       "      <td>143</td>\n",
       "      <td>143</td>\n",
       "      <td>143</td>\n",
       "      <td>143</td>\n",
       "      <td>143</td>\n",
       "    </tr>\n",
       "    <tr>\n",
       "      <td>Mean-shift</td>\n",
       "      <td>6</td>\n",
       "      <td>6</td>\n",
       "      <td>6</td>\n",
       "      <td>6</td>\n",
       "      <td>6</td>\n",
       "      <td>6</td>\n",
       "      <td>6</td>\n",
       "      <td>6</td>\n",
       "      <td>6</td>\n",
       "      <td>6</td>\n",
       "    </tr>\n",
       "    <tr>\n",
       "      <td>OneClassSVM</td>\n",
       "      <td>26</td>\n",
       "      <td>26</td>\n",
       "      <td>26</td>\n",
       "      <td>26</td>\n",
       "      <td>26</td>\n",
       "      <td>26</td>\n",
       "      <td>26</td>\n",
       "      <td>26</td>\n",
       "      <td>26</td>\n",
       "      <td>26</td>\n",
       "    </tr>\n",
       "  </tbody>\n",
       "</table>\n",
       "</div>"
      ],
      "text/plain": [
       "                 timestamp  frequency  resistance  period  time  severity  \\\n",
       "detector                                                                    \n",
       "Expo-predict             4          4           4       4     4         4   \n",
       "IsolationForest        143        143         143     143   143       143   \n",
       "Mean-shift               6          6           6       6     6         6   \n",
       "OneClassSVM             26         26          26      26    26        26   \n",
       "\n",
       "                 notified  is_correct  experiment  path  \n",
       "detector                                                 \n",
       "Expo-predict            4           4           4     4  \n",
       "IsolationForest       143         143         143   143  \n",
       "Mean-shift              6           6           6     6  \n",
       "OneClassSVM            26          26          26    26  "
      ]
     },
     "execution_count": 22,
     "metadata": {},
     "output_type": "execute_result"
    }
   ],
   "source": [
    "results_df.groupby(['detector']).count()"
   ]
  },
  {
   "cell_type": "code",
   "execution_count": 23,
   "metadata": {},
   "outputs": [],
   "source": [
    "exp_df = pd.DataFrame(experiments)"
   ]
  },
  {
   "cell_type": "code",
   "execution_count": 27,
   "metadata": {},
   "outputs": [],
   "source": [
    "input_file_path = '/home/kimino/soft/qcm-detector/data/tests/test_descriptions_short.json'\n",
    "with open(input_file_path, 'r') as test_json_file:\n",
    "    input_file = json.loads(test_json_file.read())\n",
    "tests = input_file['Tests']"
   ]
  },
  {
   "cell_type": "code",
   "execution_count": 29,
   "metadata": {},
   "outputs": [
    {
     "name": "stdout",
     "output_type": "stream",
     "text": [
      "Insertion-1ppm True True\n",
      "Hard-3ppm True True\n",
      "Insertion-3ppm True False\n",
      "Insertion-100ppm True True\n",
      "Hard-Water-2 False False\n"
     ]
    }
   ],
   "source": [
    "for test in tests:\n",
    "    print(list(test.keys())[0], list(test.keys())[0] in results_df['experiment'][results_df['detector'] == 'Mean-shift'].unique(), list(test.keys())[0] in results_df['experiment'][results_df['detector'] == 'Expo-predict'].unique() )"
   ]
  },
  {
   "cell_type": "code",
   "execution_count": 31,
   "metadata": {},
   "outputs": [
    {
     "data": {
      "text/plain": [
       "array(['Insertion-1ppm', 'Hard-Water-4', 'Hard-0', 'Hard-1ppm',\n",
       "       'Swell-10ppm', 'Insertion-5ppm', 'Insertion-30ppm', 'Hard-H20-Tap',\n",
       "       'Hard-5ppm', 'Hard-Water-5', 'Hard-5ppm-1', 'Insertion-50ppm',\n",
       "       'Hard-Tap-H20', 'Insertion-10ppm', 'Hard-Water-1', 'Hard-Water-3',\n",
       "       'Hard-3ppm', 'Insertion-3ppm', 'Insertion-100ppm', 'Hard-Water-2'],\n",
       "      dtype=object)"
      ]
     },
     "execution_count": 31,
     "metadata": {},
     "output_type": "execute_result"
    }
   ],
   "source": []
  },
  {
   "cell_type": "code",
   "execution_count": null,
   "metadata": {},
   "outputs": [],
   "source": []
  }
 ],
 "metadata": {
  "interpreter": {
   "hash": "d2887516785bf3663e6f56f9b91df9b1df44de510fd5bf4ed02f7d8447015832"
  },
  "kernelspec": {
   "display_name": "Python 3.7.3 64-bit ('env': venv)",
   "name": "python3"
  },
  "language_info": {
   "codemirror_mode": {
    "name": "ipython",
    "version": 3
   },
   "file_extension": ".py",
   "mimetype": "text/x-python",
   "name": "python",
   "nbconvert_exporter": "python",
   "pygments_lexer": "ipython3",
   "version": "3.7.3"
  },
  "metadata": {
   "interpreter": {
    "hash": "4f712c87055710968d499a7903a86f0c7bbf40b55dbd31739cedaac9b2e27c83"
   }
  },
  "orig_nbformat": 2
 },
 "nbformat": 4,
 "nbformat_minor": 2
}
