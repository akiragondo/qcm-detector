{
 "cells": [
  {
   "cell_type": "code",
   "execution_count": 13,
   "metadata": {},
   "outputs": [],
   "source": [
    "import numpy as np\n",
    "import pandas as pd\n",
    "import json\n",
    "import matplotlib"
   ]
  },
  {
   "cell_type": "code",
   "execution_count": 14,
   "metadata": {},
   "outputs": [],
   "source": [
    "with open('/home/kimino/soft/qcm-detector/results.json', 'r') as results_file:\n",
    "    r_json = json.loads(results_file.read())"
   ]
  },
  {
   "cell_type": "code",
   "execution_count": 15,
   "metadata": {},
   "outputs": [],
   "source": [
    "experiments = [r_json[exp] for exp in r_json]"
   ]
  },
  {
   "cell_type": "code",
   "execution_count": 16,
   "metadata": {},
   "outputs": [],
   "source": [
    "def get_tf_positives(experiment, experiment_name):\n",
    "    true_positives = experiment['True Positives']\n",
    "    false_positives = [exp for exp in experiment['Detections'] if exp not in experiment['True Positives']]\n",
    "    tp_df = pd.DataFrame(true_positives)\n",
    "    fp_df = pd.DataFrame(false_positives)\n",
    "    tp_df['is_correct'] = True\n",
    "    fp_df['is_correct'] = False\n",
    "    df = pd.concat([tp_df, fp_df], ignore_index= True)\n",
    "    df['experiment'] = experiment_name\n",
    "    df['path'] = experiment['Path']\n",
    "    return df\n",
    "def get_all_detections(experiment_json):\n",
    "    detection_df = pd.DataFrame()\n",
    "    for experiment in experiment_json:\n",
    "        tf_df = get_tf_positives(experiment_json[experiment], experiment)\n",
    "        detection_df = pd.concat([detection_df, tf_df], ignore_index= True, sort = False)\n",
    "    return detection_df"
   ]
  },
  {
   "cell_type": "code",
   "execution_count": 17,
   "metadata": {},
   "outputs": [
    {
     "name": "stderr",
     "output_type": "stream",
     "text": [
      "ipykernel_launcher:8: FutureWarning: Sorting because non-concatenation axis is not aligned. A future version\n",
      "of pandas will change to not sort by default.\n",
      "\n",
      "To accept the future behavior, pass 'sort=False'.\n",
      "\n",
      "To retain the current behavior and silence the warning, pass 'sort=True'.\n",
      "\n"
     ]
    }
   ],
   "source": [
    "results_df = get_all_detections(r_json)"
   ]
  },
  {
   "cell_type": "code",
   "execution_count": 18,
   "metadata": {},
   "outputs": [
    {
     "data": {
      "text/html": "<div>\n<style scoped>\n    .dataframe tbody tr th:only-of-type {\n        vertical-align: middle;\n    }\n\n    .dataframe tbody tr th {\n        vertical-align: top;\n    }\n\n    .dataframe thead th {\n        text-align: right;\n    }\n</style>\n<table border=\"1\" class=\"dataframe\">\n  <thead>\n    <tr style=\"text-align: right;\">\n      <th></th>\n      <th></th>\n      <th>timestamp</th>\n      <th>frequency</th>\n      <th>resistance</th>\n      <th>period</th>\n      <th>time</th>\n      <th>severity</th>\n      <th>experiment</th>\n      <th>path</th>\n    </tr>\n    <tr>\n      <th>detector</th>\n      <th>is_correct</th>\n      <th></th>\n      <th></th>\n      <th></th>\n      <th></th>\n      <th></th>\n      <th></th>\n      <th></th>\n      <th></th>\n    </tr>\n  </thead>\n  <tbody>\n    <tr>\n      <td rowspan=\"2\" valign=\"top\">Expo-predict</td>\n      <td>False</td>\n      <td>4</td>\n      <td>4</td>\n      <td>4</td>\n      <td>4</td>\n      <td>4</td>\n      <td>4</td>\n      <td>4</td>\n      <td>4</td>\n    </tr>\n    <tr>\n      <td>True</td>\n      <td>12</td>\n      <td>12</td>\n      <td>12</td>\n      <td>12</td>\n      <td>12</td>\n      <td>12</td>\n      <td>12</td>\n      <td>12</td>\n    </tr>\n    <tr>\n      <td rowspan=\"2\" valign=\"top\">IsolationForest</td>\n      <td>False</td>\n      <td>446</td>\n      <td>446</td>\n      <td>446</td>\n      <td>446</td>\n      <td>446</td>\n      <td>446</td>\n      <td>446</td>\n      <td>446</td>\n    </tr>\n    <tr>\n      <td>True</td>\n      <td>458</td>\n      <td>458</td>\n      <td>458</td>\n      <td>458</td>\n      <td>458</td>\n      <td>458</td>\n      <td>458</td>\n      <td>458</td>\n    </tr>\n    <tr>\n      <td>Mean-shift</td>\n      <td>True</td>\n      <td>25</td>\n      <td>25</td>\n      <td>25</td>\n      <td>25</td>\n      <td>25</td>\n      <td>25</td>\n      <td>25</td>\n      <td>25</td>\n    </tr>\n    <tr>\n      <td rowspan=\"2\" valign=\"top\">OneClassSVM</td>\n      <td>False</td>\n      <td>98</td>\n      <td>98</td>\n      <td>98</td>\n      <td>98</td>\n      <td>98</td>\n      <td>98</td>\n      <td>98</td>\n      <td>98</td>\n    </tr>\n    <tr>\n      <td>True</td>\n      <td>35</td>\n      <td>35</td>\n      <td>35</td>\n      <td>35</td>\n      <td>35</td>\n      <td>35</td>\n      <td>35</td>\n      <td>35</td>\n    </tr>\n  </tbody>\n</table>\n</div>",
      "text/plain": "                            timestamp  frequency  resistance  period  time  \\\ndetector        is_correct                                                   \nExpo-predict    False               4          4           4       4     4   \n                True               12         12          12      12    12   \nIsolationForest False             446        446         446     446   446   \n                True              458        458         458     458   458   \nMean-shift      True               25         25          25      25    25   \nOneClassSVM     False              98         98          98      98    98   \n                True               35         35          35      35    35   \n\n                            severity  experiment  path  \ndetector        is_correct                              \nExpo-predict    False              4           4     4  \n                True              12          12    12  \nIsolationForest False            446         446   446  \n                True             458         458   458  \nMean-shift      True              25          25    25  \nOneClassSVM     False             98          98    98  \n                True              35          35    35  "
     },
     "execution_count": 18,
     "metadata": {},
     "output_type": "execute_result"
    }
   ],
   "source": [
    "results_df.groupby(['detector', 'is_correct']).count()"
   ]
  },
  {
   "cell_type": "code",
   "execution_count": 19,
   "metadata": {},
   "outputs": [],
   "source": [
    "mean_shift_detection = results_df[results_df['detector'] == 'Mean-shift']"
   ]
  },
  {
   "cell_type": "code",
   "execution_count": 20,
   "metadata": {},
   "outputs": [
    {
     "name": "stderr",
     "output_type": "stream",
     "text": [
      "ipykernel_launcher:1: UserWarning: Boolean Series key will be reindexed to match DataFrame index.\n"
     ]
    },
    {
     "data": {
      "text/html": "<div>\n<style scoped>\n    .dataframe tbody tr th:only-of-type {\n        vertical-align: middle;\n    }\n\n    .dataframe tbody tr th {\n        vertical-align: top;\n    }\n\n    .dataframe thead th {\n        text-align: right;\n    }\n</style>\n<table border=\"1\" class=\"dataframe\">\n  <thead>\n    <tr style=\"text-align: right;\">\n      <th></th>\n      <th>timestamp</th>\n      <th>frequency</th>\n      <th>resistance</th>\n      <th>period</th>\n      <th>time</th>\n      <th>severity</th>\n      <th>detector</th>\n      <th>is_correct</th>\n      <th>experiment</th>\n      <th>path</th>\n    </tr>\n  </thead>\n  <tbody>\n  </tbody>\n</table>\n</div>",
      "text/plain": "Empty DataFrame\nColumns: [timestamp, frequency, resistance, period, time, severity, detector, is_correct, experiment, path]\nIndex: []"
     },
     "execution_count": 20,
     "metadata": {},
     "output_type": "execute_result"
    }
   ],
   "source": [
    "mean_shift_detection[results_df['is_correct'] == False]"
   ]
  },
  {
   "cell_type": "code",
   "execution_count": 24,
   "metadata": {},
   "outputs": [],
   "source": [
    "times = np.sum([experiment['Total Detection Time'] for experiment in experiments])"
   ]
  },
  {
   "cell_type": "code",
   "execution_count": 25,
   "metadata": {},
   "outputs": [
    {
     "data": {
      "text/plain": "6326.094820737839"
     },
     "execution_count": 25,
     "metadata": {},
     "output_type": "execute_result"
    }
   ],
   "source": [
    "times"
   ]
  },
  {
   "cell_type": "code",
   "execution_count": null,
   "metadata": {},
   "outputs": [],
   "source": []
  }
 ],
 "metadata": {
  "kernelspec": {
   "display_name": "Python 3.7.3  ('env': venv)",
   "name": "pythonjvsc74a57bd04f712c87055710968d499a7903a86f0c7bbf40b55dbd31739cedaac9b2e27c83"
  },
  "language_info": {
   "codemirror_mode": {
    "name": "ipython",
    "version": 3
   },
   "file_extension": ".py",
   "mimetype": "text/x-python",
   "name": "python",
   "nbconvert_exporter": "python",
   "pygments_lexer": "ipython3",
   "version": "3.7.3"
  },
  "metadata": {
   "interpreter": {
    "hash": "4f712c87055710968d499a7903a86f0c7bbf40b55dbd31739cedaac9b2e27c83"
   }
  },
  "orig_nbformat": 2
 },
 "nbformat": 4,
 "nbformat_minor": 2
}